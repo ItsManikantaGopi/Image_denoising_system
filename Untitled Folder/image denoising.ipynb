{
 "cells": [
  {
   "cell_type": "code",
   "execution_count": 2,
   "id": "35fdff7f",
   "metadata": {},
   "outputs": [],
   "source": [
    "from tensorflow import keras\n",
    "import numpy as np \n",
    "import matplotlib.pyplot as plt"
   ]
  },
  {
   "cell_type": "code",
   "execution_count": 3,
   "id": "bf6477d7",
   "metadata": {},
   "outputs": [],
   "source": [
    "def add_noise(image_Array, random_chance=5):\n",
    "    images=[]\n",
    "    import random\n",
    "    for image in image_Array:\n",
    "        noisy = []\n",
    "        for row in image:\n",
    "            new_row =[]\n",
    "            for pix in row:\n",
    "                if random.choice(range(100))<=random_chance:\n",
    "                    new_val = random.uniform(0,1)\n",
    "                    new_row.append(new_val)\n",
    "                else:\n",
    "                    new_row.append(pix)\n",
    "            noisy.append(new_row)\n",
    "        images.append(np.array(noisy))\n",
    "    return np.array(images)\n",
    "\n",
    "# add_noise = np.vectorizerise(add_noise)"
   ]
  },
  {
   "cell_type": "code",
   "execution_count": 4,
   "id": "fba0a817",
   "metadata": {
    "scrolled": true
   },
   "outputs": [],
   "source": [
    "(trainx,trainy),(testx,testy)= keras.datasets.mnist.load_data()\n",
    "trainx = trainx/255\n",
    "testx = testx/255\n",
    "noisy_trainx = add_noise(trainx)\n",
    "# plt.imshow(trainx[2],cmap=\"gray\")\n",
    "# plt.imshow(noisy_trainx[0], cmap = gray)\n",
    "x_train_noisy = noisy_trainx\n",
    "x_test_noisy = add_noise(testx)"
   ]
  },
  {
   "cell_type": "code",
   "execution_count": 7,
   "id": "780de41b",
   "metadata": {},
   "outputs": [],
   "source": []
  },
  {
   "cell_type": "code",
   "execution_count": 5,
   "id": "b0c881c5",
   "metadata": {},
   "outputs": [
    {
     "data": {
      "text/plain": [
       "<matplotlib.image.AxesImage at 0x21a16463e50>"
      ]
     },
     "execution_count": 5,
     "metadata": {},
     "output_type": "execute_result"
    },
    {
     "data": {
      "image/png": "[encoded data removed]",
      "text/plain": [
       "<Figure size 432x288 with 2 Axes>"
      ]
     },
     "metadata": {
      "needs_background": "light"
     },
     "output_type": "display_data"
    }
   ],
   "source": [
    "plt.subplot(1,2,1)\n",
    "plt.imshow(noisy_trainx[2], cmap = 'gray')\n",
    "plt.subplot(1,2,2)\n",
    "plt.imshow(trainx[2],cmap=\"gray\")"
   ]
  },
  {
   "cell_type": "code",
   "execution_count": null,
   "id": "00fb26f2",
   "metadata": {
    "scrolled": true
   },
   "outputs": [],
   "source": [
    "# x_train_noisy = np.clip(trainx, 0., 1.)\n",
    "# x_test_noisy = np.clip(testx, 0., 1.)\n",
    "plt.imshow(x_train_noisy[6],cmap=\"gray\")\n",
    "# plt.imshow(trainx[6],cmap=\"gray\")\n",
    "print(x_train_noisy[6].shape)"
   ]
  },
  {
   "cell_type": "code",
   "execution_count": 44,
   "id": "29eaa6ee",
   "metadata": {},
   "outputs": [
    {
     "name": "stdout",
     "output_type": "stream",
     "text": [
      "Model: \"model_6\"\n",
      "_________________________________________________________________\n",
      "Layer (type)                 Output Shape              Param #   \n",
      "=================================================================\n",
      "input_7 (InputLayer)         [(None, 28, 28, 1)]       0         \n",
      "_________________________________________________________________\n",
      "depthwise_conv2d_47 (Depthwi (None, 28, 28, 1)         10        \n",
      "_________________________________________________________________\n",
      "encode_1 (Conv2D)            (None, 28, 28, 32)        32        \n",
      "_________________________________________________________________\n",
      "depthwise_conv2d_48 (Depthwi (None, 28, 28, 32)        320       \n",
      "_________________________________________________________________\n",
      "encode_2 (Conv2D)            (None, 28, 28, 64)        2048      \n",
      "_________________________________________________________________\n",
      "depthwise_conv2d_49 (Depthwi (None, 28, 28, 64)        640       \n",
      "_________________________________________________________________\n",
      "encode_3 (Conv2D)            (None, 28, 28, 256)       16384     \n",
      "_________________________________________________________________\n",
      "depthwise_conv2d_50 (Depthwi (None, 28, 28, 256)       2560      \n",
      "_________________________________________________________________\n",
      "decode_3 (Conv2D)            (None, 28, 28, 256)       65536     \n",
      "_________________________________________________________________\n",
      "up_sampling2d_16 (UpSampling (None, 28, 28, 256)       0         \n",
      "_________________________________________________________________\n",
      "depthwise_conv2d_51 (Depthwi (None, 28, 28, 256)       2560      \n",
      "_________________________________________________________________\n",
      "decode_2 (Conv2D)            (None, 28, 28, 64)        16384     \n",
      "_________________________________________________________________\n",
      "up_sampling2d_17 (UpSampling (None, 28, 28, 64)        0         \n",
      "_________________________________________________________________\n",
      "depthwise_conv2d_52 (Depthwi (None, 28, 28, 64)        640       \n",
      "_________________________________________________________________\n",
      "decode_1 (Conv2D)            (None, 28, 28, 32)        2048      \n",
      "_________________________________________________________________\n",
      "up_sampling2d_18 (UpSampling (None, 28, 28, 32)        0         \n",
      "_________________________________________________________________\n",
      "depthwise_conv2d_53 (Depthwi (None, 28, 28, 32)        64        \n",
      "_________________________________________________________________\n",
      "output (Conv2D)              (None, 28, 28, 1)         32        \n",
      "=================================================================\n",
      "Total params: 109,258\n",
      "Trainable params: 109,258\n",
      "Non-trainable params: 0\n",
      "_________________________________________________________________\n"
     ]
    }
   ],
   "source": [
    "import tensorflow as tf\n",
    "import numpy as np\n",
    "def SeparableConv( x , num_filters =3 ,kernel_size=3, strides=1 , alpha=1.0 ,dilation = 1, Layer_name = \"\" ):\n",
    "    x = tf.keras.layers.DepthwiseConv2D( kernel_size=kernel_size , padding='same' ,kernel_initializer = 'he_normal', dilation_rate=dilation)( x )\n",
    "#     x = tf.keras.layers.BatchNormalization(momentum=0.9997)( x )\n",
    "    if Layer_name != \"\":\n",
    "        x = tf.keras.layers.Conv2D(np.floor( num_filters * alpha ) , kernel_size = ( 1 , 1 ) \n",
    "                                   , kernel_initializer = 'he_normal', strides = strides , use_bias = False \n",
    "                                   , padding='same' , dilation_rate = dilation, activation = \"relu\",\n",
    "                                   name = Layer_name\n",
    "                                   , )( x )\n",
    "    else:\n",
    "        x = tf.keras.layers.Conv2D(np.floor( num_filters * alpha ) , kernel_size = ( 1 , 1 ) \n",
    "                                   , kernel_initializer = 'he_normal', strides = strides , use_bias = False\n",
    "                                   , padding = 'same' , dilation_rate = dilation,  activation = \"relu\" )( x )  \n",
    "    return x\n",
    "\n",
    "def DEP_SEP_AUTO_ENCODER(input_size=(28,28,1),depth=3,dilation = 1):\n",
    "    features = 32\n",
    "    encoder_input = tf.keras.layers.Input(input_size)\n",
    "    encoder_naming_template = \"encode_\"\n",
    "    decoder_naming_template = \"decode_\"\n",
    "    encode = encoder_input\n",
    "    for i in range(1,depth+1):\n",
    "        encode = SeparableConv( encode, num_filters = features  ,kernel_size=3,\n",
    "                               dilation = dilation, Layer_name = encoder_naming_template+str(i) )\n",
    "        features = features*(i*2)\n",
    "#     return tf.keras.Model(encoder_input,encode)\n",
    "    #bottle neck\n",
    "#     block_2 = SeparableConv(encode,num_filters = features, kernel_size = 2, dilation =2)\n",
    "#     block_2 = tf.keras.layers.Dropout(0.5)(block_2)\n",
    "#     block_2 = SeparableConv(block_2,num_filters = features, kernel_size = 2, dilation =2)\n",
    "#     block_2 = tf.keras.layers.Dense()()\n",
    "    decoder_input = encode\n",
    "    decode = decoder_input\n",
    "    for i in reversed(range(1,depth+1)):\n",
    "        features = features/(i*2)\n",
    "        decode = SeparableConv( decode, num_filters = features ,kernel_size=3,\n",
    "                               dilation = dilation, Layer_name = decoder_naming_template+str(i) )\n",
    "        decode = tf.keras.layers.UpSampling2D(size=(1, 1)) (decode)\n",
    "        \n",
    "    decoder_output = SeparableConv( decode, num_filters = 1 ,kernel_size=1,\n",
    "                               dilation = dilation, Layer_name = \"output\" )\n",
    "    model = tf.keras.Model(encoder_input,decoder_output)\n",
    "    return model\n",
    "model = DEP_SEP_AUTO_ENCODER()\n",
    "model.summary()\n",
    "model.compile(optimizer='adam', loss='binary_crossentropy')\n",
    "        \n"
   ]
  },
  {
   "cell_type": "code",
   "execution_count": 45,
   "id": "729a328d",
   "metadata": {},
   "outputs": [
    {
     "name": "stdout",
     "output_type": "stream",
     "text": [
      "Epoch 1/10\n",
      "469/469 [==============================] - 123s 248ms/step - loss: 0.2357 - val_loss: 0.0803\n",
      "Epoch 2/10\n",
      "469/469 [==============================] - 113s 240ms/step - loss: 0.0879 - val_loss: 0.0773\n",
      "Epoch 3/10\n",
      "469/469 [==============================] - 113s 241ms/step - loss: 0.0771 - val_loss: 0.0740\n",
      "Epoch 4/10\n",
      "469/469 [==============================] - 101s 216ms/step - loss: 0.0766 - val_loss: 0.0749\n",
      "Epoch 5/10\n",
      "469/469 [==============================] - 87s 186ms/step - loss: 0.0738 - val_loss: 0.0711\n",
      "Epoch 6/10\n",
      "469/469 [==============================] - 84s 179ms/step - loss: 0.0716 - val_loss: 0.0702\n",
      "Epoch 7/10\n",
      "469/469 [==============================] - 84s 178ms/step - loss: 0.0714 - val_loss: 0.0698\n",
      "Epoch 8/10\n",
      "469/469 [==============================] - 87s 185ms/step - loss: 0.0712 - val_loss: 0.0789\n",
      "Epoch 9/10\n",
      "469/469 [==============================] - 85s 182ms/step - loss: 0.0777 - val_loss: 0.0719\n",
      "Epoch 10/10\n",
      "469/469 [==============================] - 84s 179ms/step - loss: 0.0731 - val_loss: 0.0716\n"
     ]
    },
    {
     "data": {
      "text/plain": [
       "<tensorflow.python.keras.callbacks.History at 0x1ccc6fba4c0>"
      ]
     },
     "execution_count": 45,
     "metadata": {},
     "output_type": "execute_result"
    }
   ],
   "source": [
    "model.fit(x_train_noisy, trainx,\n",
    "epochs=10,\n",
    "batch_size=128,\n",
    "shuffle=True,\n",
    "validation_data=(x_test_noisy, testx))"
   ]
  },
  {
   "cell_type": "code",
   "execution_count": 46,
   "id": "506a9492",
   "metadata": {},
   "outputs": [],
   "source": [
    "model.save(\"autoencoder_10_epochs.h5\")\n"
   ]
  },
  {
   "cell_type": "code",
   "execution_count": 48,
   "id": "6ac80a2e",
   "metadata": {},
   "outputs": [
    {
     "name": "stdout",
     "output_type": "stream",
     "text": [
      "Epoch 1/10\n",
      "469/469 [==============================] - 82s 173ms/step - loss: 0.0705 - val_loss: 0.0713\n",
      "Epoch 2/10\n",
      "469/469 [==============================] - 81s 173ms/step - loss: 0.0695 - val_loss: 0.0735\n",
      "Epoch 3/10\n",
      "469/469 [==============================] - 81s 174ms/step - loss: 0.0687 - val_loss: 0.0689\n",
      "Epoch 4/10\n",
      "469/469 [==============================] - 81s 173ms/step - loss: 0.0697 - val_loss: 0.0666\n",
      "Epoch 5/10\n",
      "469/469 [==============================] - 81s 173ms/step - loss: 0.0714 - val_loss: 0.0672\n",
      "Epoch 6/10\n",
      "469/469 [==============================] - 81s 173ms/step - loss: 0.0723 - val_loss: 0.0666\n",
      "Epoch 7/10\n",
      "469/469 [==============================] - 81s 173ms/step - loss: 0.0684 - val_loss: 0.0676\n",
      "Epoch 8/10\n",
      "469/469 [==============================] - 82s 174ms/step - loss: 0.0702 - val_loss: 0.0682\n",
      "Epoch 9/10\n",
      "469/469 [==============================] - 82s 174ms/step - loss: 0.0712 - val_loss: 0.0703\n",
      "Epoch 10/10\n",
      "469/469 [==============================] - 82s 176ms/step - loss: 0.0686 - val_loss: 0.0657\n",
      "WARNING:tensorflow:11 out of the last 11 calls to <function Model.make_predict_function.<locals>.predict_function at 0x000001CD61EB69D0> triggered tf.function retracing. Tracing is expensive and the excessive number of tracings could be due to (1) creating @tf.function repeatedly in a loop, (2) passing tensors with different shapes, (3) passing Python objects instead of tensors. For (1), please define your @tf.function outside of the loop. For (2), @tf.function has experimental_relax_shapes=True option that relaxes argument shapes that can avoid unnecessary retracing. For (3), please refer to https://www.tensorflow.org/guide/function#controlling_retracing and https://www.tensorflow.org/api_docs/python/tf/function for  more details.\n"
     ]
    }
   ],
   "source": [
    "from tensorflow.keras.models import load_model\n",
    "model = load_model('autoencoder_10_epochs.h5'.encode(\"utf-8\"))\n",
    "model.fit(x_train_noisy, trainx,\n",
    "epochs=10,\n",
    "batch_size=128,\n",
    "shuffle=True,\n",
    "validation_data=(x_test_noisy, testx))\n",
    "temp = model.predict(noisy_trainx[0].reshape(-1,28,28,1))"
   ]
  },
  {
   "cell_type": "code",
   "execution_count": 50,
   "id": "d2ea00fa",
   "metadata": {
    "scrolled": true
   },
   "outputs": [],
   "source": [
    "model.save(\"autoencoder_20_epochs.h5\")\n",
    "\n",
    "# plt.subplot(1,2,1)\n",
    "# # plt.imshow(temp[0],cmap=\"gray\")\n",
    "# plt.subplot(1,2,2)\n",
    "# plt.imshow(noisy_trainx[0],cmap=\"gray\")\n",
    "\n",
    "# plt.imsave(\"a.png\",noisy_trainx[0],cmap=\"gray\")"
   ]
  },
  {
   "cell_type": "code",
   "execution_count": null,
   "id": "b517c45c",
   "metadata": {},
   "outputs": [],
   "source": []
  },
  {
   "cell_type": "code",
   "execution_count": 47,
   "id": "de2d2ed1",
   "metadata": {},
   "outputs": [
    {
     "name": "stdout",
     "output_type": "stream",
     "text": [
      "Running locally at: http://127.0.0.1:7871/\n",
      "To create a public link, set `share=True` in `launch()`.\n",
      "Interface loading below...\n"
     ]
    },
    {
     "data": {
      "text/html": [
       "\n",
       "        <iframe\n",
       "            width=\"900\"\n",
       "            height=\"500\"\n",
       "            src=\"http://127.0.0.1:7871/\"\n",
       "            frameborder=\"0\"\n",
       "            allowfullscreen\n",
       "        ></iframe>\n",
       "        "
      ],
      "text/plain": [
       "<IPython.lib.display.IFrame at 0x1cd44a7aee0>"
      ]
     },
     "metadata": {},
     "output_type": "display_data"
    },
    {
     "data": {
      "text/plain": [
       "(<Flask 'gradio.networking'>, 'http://127.0.0.1:7871/', None)"
      ]
     },
     "execution_count": 47,
     "metadata": {},
     "output_type": "execute_result"
    },
    {
     "name": "stdout",
     "output_type": "stream",
     "text": [
      "WARNING:tensorflow:11 out of the last 11 calls to <function Model.make_predict_function.<locals>.predict_function at 0x000001CD44A6D430> triggered tf.function retracing. Tracing is expensive and the excessive number of tracings could be due to (1) creating @tf.function repeatedly in a loop, (2) passing tensors with different shapes, (3) passing Python objects instead of tensors. For (1), please define your @tf.function outside of the loop. For (2), @tf.function has experimental_relax_shapes=True option that relaxes argument shapes that can avoid unnecessary retracing. For (3), please refer to https://www.tensorflow.org/guide/function#controlling_retracing and https://www.tensorflow.org/api_docs/python/tf/function for  more details.\n",
      "WARNING:tensorflow:11 out of the last 11 calls to <function Model.make_predict_function.<locals>.predict_function at 0x000001CD44A448B0> triggered tf.function retracing. Tracing is expensive and the excessive number of tracings could be due to (1) creating @tf.function repeatedly in a loop, (2) passing tensors with different shapes, (3) passing Python objects instead of tensors. For (1), please define your @tf.function outside of the loop. For (2), @tf.function has experimental_relax_shapes=True option that relaxes argument shapes that can avoid unnecessary retracing. For (3), please refer to https://www.tensorflow.org/guide/function#controlling_retracing and https://www.tensorflow.org/api_docs/python/tf/function for  more details.\n"
     ]
    }
   ],
   "source": [
    "#user interface for model results\n",
    "import gradio as gr\n",
    "import cv2\n",
    "from tensorflow.keras.models import load_model\n",
    "import matplotlib.pyplot as plt\n",
    "import numpy as np\n",
    "\n",
    "def example(image):\n",
    "    model = load_model('autoencoder_10_epochs.h5'.encode(\"utf-8\"))\n",
    "    image = cv2.cvtColor(image, cv2.COLOR_BGR2GRAY)\n",
    "    image = image\n",
    "    image = image.reshape((-1, 28, 28, 1)),\n",
    "    prediction = model.predict(image)[0]/255\n",
    "    return np.squeeze(prediction, axis=2)\n",
    "image_in = gr.inputs.Image(shape = (28, 28))\n",
    "image_out = gr.outputs.Image(type = \"numpy\")\n",
    "# face = gr.Interface(fn=start, inputs=\"text\", outputs=\"text\")\n",
    "# face.launch()\n",
    "gr.Interface(fn = example,inputs = image_in,outputs = \"image\",\n",
    "             title=\"Image Denoising\",description= \"upload image and denoise it\").launch()"
   ]
  },
  {
   "cell_type": "code",
   "execution_count": 1,
   "id": "b08dc131",
   "metadata": {},
   "outputs": [
    {
     "name": "stdout",
     "output_type": "stream",
     "text": [
      "Running locally at: http://127.0.0.1:7860/\n",
      "To create a public link, set `share=True` in `launch()`.\n",
      "Interface loading below...\n"
     ]
    },
    {
     "data": {
      "text/html": [
       "\n",
       "        <iframe\n",
       "            width=\"900\"\n",
       "            height=\"500\"\n",
       "            src=\"http://127.0.0.1:7860/\"\n",
       "            frameborder=\"0\"\n",
       "            allowfullscreen\n",
       "        ></iframe>\n",
       "        "
      ],
      "text/plain": [
       "<IPython.lib.display.IFrame at 0x2194a72dc40>"
      ]
     },
     "metadata": {},
     "output_type": "display_data"
    },
    {
     "data": {
      "text/plain": [
       "(<Flask 'gradio.networking'>, 'http://127.0.0.1:7860/', None)"
      ]
     },
     "execution_count": 1,
     "metadata": {},
     "output_type": "execute_result"
    }
   ],
   "source": [
    "#user interface for model results\n",
    "import gradio as gr\n",
    "import cv2\n",
    "from tensorflow.keras.models import load_model\n",
    "import matplotlib.pyplot as plt\n",
    "import numpy as np\n",
    "\n",
    "def example(image):\n",
    "    model = load_model('autoencoder_20_epochs.h5'.encode(\"utf-8\"))\n",
    "    image = cv2.cvtColor(image, cv2.COLOR_BGR2GRAY)\n",
    "    image = image\n",
    "    image = image.reshape((-1, 28, 28, 1)),\n",
    "    prediction = model.predict(image)[0]/255\n",
    "    return np.squeeze(prediction, axis=2)\n",
    "image_in = gr.inputs.Image(shape = (28, 28))\n",
    "image_out = gr.outputs.Image(type = \"numpy\")\n",
    "# face = gr.Interface(fn=start, inputs=\"text\", outputs=\"text\")\n",
    "# face.launch()\n",
    "gr.Interface(fn = example,inputs = image_in,outputs = \"image\",\n",
    "             title=\"Image Denoising\",description= \"upload image and denoise it\").launch()"
   ]
  },
  {
   "cell_type": "code",
   "execution_count": null,
   "id": "d8628f9c",
   "metadata": {},
   "outputs": [],
   "source": [
    "# #Define the convolutional model\n",
    "# import keras.layers as layers\n",
    "# # input_img = keras.Input(shape=(28, 28, 1))\n",
    "# # x = layers.Conv2D(32, (3, 3), activation='relu', padding='same')(input_img)\n",
    "# # x = layers.MaxPooling2D((2, 2), padding='same')(x) \n",
    "# # encoded = layers.MaxPooling2D((2, 2), padding='same')(x)\n",
    "\n",
    "# # # At this point the representation is (7, 7, 32)\n",
    "# # x = layers.Conv2D(32, (3, 3), activation='relu', padding='same')(encoded)\n",
    "# # x = layers.UpSampling2D((2, 2))(x)\n",
    "# # x = layers.Conv2D(32, (3, 3), activation='relu', padding='same')(x)\n",
    "# # x = layers.UpSampling2D((2, 2))(x)\n",
    "# # decoded = layers.Conv2D(1, (3, 3), activation='sigmoid', padding='same')(x)\n",
    "# # autoencoder = keras.Model(input_img, decoded)\n",
    "# autoencoderer = DEP_SEP_AUTO_ENCODER()\n",
    "# autoencoder.compile(optimizer='adam', loss='binary_crossentropy')\n",
    "\n",
    "# Code example (model (autoencoder) validation)\n",
    "autoencoder.fit(x_train_noisy, trainx,\n",
    "epochs=100,\n",
    "batch_size=128,\n",
    "shuffle=True,\n",
    "validation_data=(x_test_noisy, testx))"
   ]
  }
 ],
 "metadata": {
  "kernelspec": {
   "display_name": "Python 3",
   "language": "python",
   "name": "python3"
  },
  "language_info": {
   "codemirror_mode": {
    "name": "ipython",
    "version": 3
   },
   "file_extension": ".py",
   "mimetype": "text/x-python",
   "name": "python",
   "nbconvert_exporter": "python",
   "pygments_lexer": "ipython3",
   "version": "3.8.0"
  }
 },
 "nbformat": 4,
 "nbformat_minor": 5
}
